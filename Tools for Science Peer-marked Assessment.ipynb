{
 "cells": [
  {
   "cell_type": "markdown",
   "id": "c95d3c8e-8692-4cc7-bd5e-16ae00179504",
   "metadata": {},
   "source": [
    "# My Jupyter Notebook on IBM Watson Studio"
   ]
  },
  {
   "cell_type": "markdown",
   "id": "d3faa387-1531-4ab3-8f41-5868f2627b52",
   "metadata": {},
   "source": [
    "**Bjorn Verduijn**\n",
    "\n",
    "Aspiring Data Scientist"
   ]
  },
  {
   "cell_type": "markdown",
   "id": "1c81bbb3-94ee-4c9c-a288-f84032608e9d",
   "metadata": {},
   "source": [
    "_I am interested in data science, because I believe making data-driven decisions is both easier and more important than ever, so I'd like to use my experience as a business analyst to move into the data science space_"
   ]
  },
  {
   "cell_type": "markdown",
   "id": "665bd95b-6c69-4fd8-85df-e0995e482265",
   "metadata": {},
   "source": [
    "### My code in the cell below is supposed to demonstrate that I can do very basic arithmetic using python code"
   ]
  },
  {
   "cell_type": "code",
   "execution_count": 4,
   "id": "c4857e69-0b0b-45cd-acab-be0b6fb8a832",
   "metadata": {},
   "outputs": [
    {
     "name": "stdout",
     "output_type": "stream",
     "text": [
      "one plus one equals 2\n",
      "but one times one equals 1\n"
     ]
    }
   ],
   "source": [
    "print (\"one plus one equals\", 1+1)\n",
    "print (\"but one times one equals\", 1*1)"
   ]
  },
  {
   "cell_type": "markdown",
   "id": "0ef36637-0454-4439-8ac1-142b68ea7b14",
   "metadata": {},
   "source": [
    "### Now that this code is written, it is time to draw a line under it\n",
    "\n",
    "---\n",
    "\n",
    "Followed by a list of bullets\n",
    "\n",
    "* like this\n",
    "* and this\n",
    "* and this\n",
    "\n",
    "But lists can also be enumarated, like so:\n",
    "\n",
    "1. here is one\n",
    "2. and here is two\n",
    "3. and here is three\n",
    "\n",
    "Alternatively, I can put information in table format:\n",
    "\n",
    "| Name | Address | Job |\n",
    "| --- | --- | --- |\n",
    "| Joe | 1 Front road | plumber |\n",
    "| Marta | 1 Church road | nurse |\n",
    "\n",
    "If you want to see an image of a dog, you can search for one using Google by clicking [here](htps://www.google.co.uk), but for ease of use I have also included a picture of a dog below ![alt text](https://ichef.bbci.co.uk/news/976/cpsprodpb/17638/production/_124800859_gettyimages-817514614.jpg.webp \"and if you hover over the image with your mouse you'll be able to read this message\")\n",
    "\n",
    "---\n",
    "\n",
    "The simple code for basic arithmetic I executed earlier used the following code\n",
    "```python\n",
    "print (\"one plus one equals\", 1+1)\n",
    "\n",
    "print (\"but one times one equals\", 1*1)\n",
    "```\n",
    "\n",
    "---\n",
    "\n",
    "> If you want to see an image of a dog, you can search for one using Google by clicking [here](htps://www.google.co.uk))\n",
    "\n",
    "I can also comment on this block of text like this. ~And if I make an error, I could strike it through.~"
   ]
  },
  {
   "cell_type": "code",
   "execution_count": null,
   "id": "60b58bd7-cc0d-46a0-9301-a5f9a4727f42",
   "metadata": {},
   "outputs": [],
   "source": []
  }
 ],
 "metadata": {
  "kernelspec": {
   "display_name": "Python 3 (ipykernel)",
   "language": "python",
   "name": "python3"
  },
  "language_info": {
   "codemirror_mode": {
    "name": "ipython",
    "version": 3
   },
   "file_extension": ".py",
   "mimetype": "text/x-python",
   "name": "python",
   "nbconvert_exporter": "python",
   "pygments_lexer": "ipython3",
   "version": "3.9.12"
  }
 },
 "nbformat": 4,
 "nbformat_minor": 5
}
